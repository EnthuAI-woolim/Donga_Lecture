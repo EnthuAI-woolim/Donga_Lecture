{
  "cells": [
    {
      "cell_type": "markdown",
      "metadata": {
        "id": "_tnyjC0dMNwv"
      },
      "source": [
        "# K Nearest Neighbors (KNN)"
      ]
    },
    {
      "cell_type": "code",
      "execution_count": null,
      "metadata": {
        "id": "siEUhNeNMNwx"
      },
      "outputs": [],
      "source": [
        "import pandas as pd\n",
        "import numpy as np\n",
        "import matplotlib.pyplot as plt\n",
        "\n",
        "from sklearn.datasets import make_classification\n",
        "from sklearn.model_selection import train_test_split"
      ]
    },
    {
      "cell_type": "markdown",
      "metadata": {
        "id": "7IzeLkqQMNwy"
      },
      "source": [
        "## Dataset"
      ]
    },
    {
      "cell_type": "code",
      "source": [
        "X, y = make_classification(n_samples=500,\n",
        "                           n_features=2,\n",
        "                           n_classes=3,\n",
        "                           n_clusters_per_class=1,\n",
        "                           n_informative=2,\n",
        "                           n_redundant=0,\n",
        "                           random_state=40)\n",
        "\n",
        "plt.scatter(X[:, 0], X[:, 1], marker='o', c=y, s=100, edgecolor=\"k\", linewidth=1)\n",
        "plt.xlabel(\"x_1\")\n",
        "plt.ylabel(\"x_2\")\n",
        "plt.show()"
      ],
      "metadata": {
        "id": "hSLvwCiulEnB"
      },
      "execution_count": null,
      "outputs": []
    },
    {
      "cell_type": "code",
      "source": [
        "# Training/Testing Dataset 분리 (80:20)\n",
        "X_train, X_test, y_train, y_test = train_test_split(X, y, test_size=0.2, random_state=1234)\n",
        "\n",
        "print(\"Training samples: \", len(X_train))\n",
        "print(\"Testing samples: \", len(X_test))"
      ],
      "metadata": {
        "id": "XzIYgiiBIUNN"
      },
      "execution_count": null,
      "outputs": []
    },
    {
      "cell_type": "markdown",
      "metadata": {
        "id": "879Zhc0HMNw0"
      },
      "source": [
        "## Model\n"
      ]
    },
    {
      "cell_type": "code",
      "source": [
        "def L2_distance(x1, x2):\n",
        "  return np.sqrt(np.sum((x1 - x2) ** 2))\n",
        "\n",
        "class KNN:\n",
        "  def __init__(self, k=3):\n",
        "    # initialization\n",
        "    self.k = k\n",
        "\n",
        "  def fit(self, X, y):\n",
        "    # Storage training datas\n",
        "    self.train_x = X\n",
        "    self.train_y = y\n",
        "\n",
        "  def predict(self, X):\n",
        "    # Prediction\n",
        "\n",
        "    y_pred = []\n",
        "\n",
        "    for input in X:\n",
        "      distances = []\n",
        "      for train in self.train_x:\n",
        "        distances.append(L2_distance(input, train))\n",
        "\n",
        "      index = np.argsort(distances)[: self.k]\n",
        "      label = []\n",
        "\n",
        "      for i in index:\n",
        "        label.append(self.train_y[i])\n",
        "\n",
        "      prediction = max(label, key=label.count)\n",
        "      y_pred.append(prediction)\n",
        "\n",
        "    return y_pred"
      ],
      "metadata": {
        "id": "KZbAa278i29-"
      },
      "execution_count": null,
      "outputs": []
    },
    {
      "cell_type": "markdown",
      "metadata": {
        "id": "vXKQC_VhMNw0"
      },
      "source": [
        "## Prediction"
      ]
    },
    {
      "cell_type": "code",
      "execution_count": null,
      "metadata": {
        "id": "s0_IFAUSMNw1"
      },
      "outputs": [],
      "source": [
        "model = KNN()\n",
        "model.fit(X_train, y_train)\n",
        "y_pred = model.predict(X_test)\n",
        "\n",
        "accuracy = np.sum(y_pred == y_test) / len(y_test)\n",
        "print(accuracy)"
      ]
    },
    {
      "cell_type": "code",
      "source": [
        "plt.figure(figsize=(12,4))\n",
        "\n",
        "plt.subplot(1, 2, 1)\n",
        "plt.title(\"label\")\n",
        "plt.scatter(X_test[:, 0], X_test[:, 1], marker='o', c=y_test, s=100, edgecolor=\"k\", linewidth=1)\n",
        "\n",
        "plt.subplot(1, 2, 2)\n",
        "plt.title(\"prediction\")\n",
        "plt.scatter(X_test[:, 0], X_test[:, 1], marker='o', c=y_pred, s=100, edgecolor=\"k\", linewidth=1)\n",
        "plt.show()"
      ],
      "metadata": {
        "id": "2mKRlQd5UlaX"
      },
      "execution_count": null,
      "outputs": []
    },
    {
      "cell_type": "markdown",
      "source": [
        "### 기말고사 연습문제"
      ],
      "metadata": {
        "id": "gNIS8nYMZy8P"
      }
    },
    {
      "cell_type": "code",
      "source": [
        "X, y = make_classification(n_samples=500,\n",
        "                           n_features=2,\n",
        "                           n_classes=4,\n",
        "                           n_clusters_per_class=1,\n",
        "                           n_informative=2,\n",
        "                           n_redundant=0,\n",
        "                           random_state=40)\n",
        "\n",
        "X[:, 0] = X[:, 0] * 0.1 - 100\n",
        "X[:, 1] = X[:, 1] * 100 + 120\n",
        "\n",
        "plt.scatter(X[:, 0], X[:, 1], marker='o', c=y, s=100, edgecolor=\"k\", linewidth=1)\n",
        "plt.xlabel(\"x_1\")\n",
        "plt.ylabel(\"x_2\")\n",
        "plt.show()"
      ],
      "metadata": {
        "id": "sigiw2BDjMFN"
      },
      "execution_count": null,
      "outputs": []
    },
    {
      "cell_type": "code",
      "source": [
        "# Training/Testing Dataset 분리 (80:20)\n",
        "X_train, X_test, y_train, y_test = train_test_split(X, y, test_size=0.2, random_state=1234)\n",
        "\n",
        "print(\"Training samples: \", len(X_train))\n",
        "print(\"Testing samples: \", len(X_test))"
      ],
      "metadata": {
        "id": "j49dkMYDkP3q"
      },
      "execution_count": null,
      "outputs": []
    },
    {
      "cell_type": "code",
      "source": [
        "model = KNN(k=1)\n",
        "model.fit(X_train, y_train)\n",
        "y_pred = model.predict(X_test)\n",
        "\n",
        "accuracy = np.sum(y_pred == y_test) / len(y_test)\n",
        "print(accuracy)"
      ],
      "metadata": {
        "id": "R9YgKzXUkEk9"
      },
      "execution_count": null,
      "outputs": []
    },
    {
      "cell_type": "code",
      "source": [],
      "metadata": {
        "id": "X30HGnxZkjp8"
      },
      "execution_count": null,
      "outputs": []
    }
  ],
  "metadata": {
    "colab": {
      "provenance": []
    },
    "kernelspec": {
      "display_name": "Python 3",
      "language": "python",
      "name": "python3"
    },
    "language_info": {
      "codemirror_mode": {
        "name": "ipython",
        "version": 3
      },
      "file_extension": ".py",
      "mimetype": "text/x-python",
      "name": "python",
      "nbconvert_exporter": "python",
      "pygments_lexer": "ipython3",
      "version": "3.11.5"
    },
    "orig_nbformat": 4
  },
  "nbformat": 4,
  "nbformat_minor": 0
}