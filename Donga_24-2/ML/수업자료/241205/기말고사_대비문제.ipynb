{
  "cells": [
    {
      "cell_type": "markdown",
      "source": [
        "## 기말고사 연습문제 1"
      ],
      "metadata": {
        "id": "y5DJ-JvskHyx"
      }
    },
    {
      "cell_type": "markdown",
      "metadata": {
        "id": "e8CW-ldez0bV"
      },
      "source": [
        "### 패키지 선언"
      ]
    },
    {
      "cell_type": "code",
      "execution_count": null,
      "metadata": {
        "id": "8y9SBNBvz989"
      },
      "outputs": [],
      "source": [
        "import torch\n",
        "import torch.nn as nn\n",
        "import numpy as np\n",
        "import torchvision.datasets as dataset\n",
        "import torchvision.transforms as transform\n",
        "from torch.utils.data import DataLoader\n"
      ]
    },
    {
      "cell_type": "markdown",
      "metadata": {
        "id": "xIZvkTTVz_We"
      },
      "source": [
        "### Dataset 선언"
      ]
    },
    {
      "cell_type": "code",
      "execution_count": null,
      "metadata": {
        "id": "22hst1Gx0DPK"
      },
      "outputs": [],
      "source": [
        "# Training dataset 다운로드\n",
        "cifar10_train = dataset.CIFAR10(root = \"./\", # 데이터셋을 저장할 위치\n",
        "                            train = True,\n",
        "                            transform = transform.ToTensor(),\n",
        "                            download = True)\n",
        "# Testing dataset 다운로드\n",
        "cifar10_test = dataset.CIFAR10(root = \"./\",\n",
        "                            train = False,\n",
        "                            transform = transform.ToTensor(),\n",
        "                            download = True)\n",
        "\n",
        "from matplotlib import pyplot as plt\n",
        "print(len(cifar10_train))     # training dataset 개수 확인\n",
        "\n",
        "first_data = cifar10_train[1]\n",
        "print(first_data[0].shape)  # 두번째 data의 형상 확인\n",
        "print(first_data[1])        # 두번째 data의 정답 확인\n",
        "\n",
        "\n",
        "plt.imshow(first_data[0].permute(1, 2, 0))\n",
        "plt.show()"
      ]
    },
    {
      "cell_type": "markdown",
      "metadata": {
        "id": "nOCujlwh0TJw"
      },
      "source": [
        "### CNN 모델 구현"
      ]
    },
    {
      "cell_type": "code",
      "execution_count": null,
      "metadata": {
        "id": "S3LB6Iv-0U56"
      },
      "outputs": [],
      "source": [
        "class TestModel (nn.Module):\n",
        "  def __init__ (self):\n",
        "    super(TestModel, self).__init__()\n",
        "\n",
        "\n",
        "  def forward(self, x):\n",
        "    # convolution layers\n",
        "\n",
        "    # 평탄화\n",
        "    out = out.reshape(-1, 4096)\n",
        "\n",
        "    # fully connected layers\n",
        "\n",
        "    return out"
      ]
    },
    {
      "cell_type": "markdown",
      "metadata": {
        "id": "ltAhcjO60b0x"
      },
      "source": [
        "### Hyper-parameters 지정 / Training / Test"
      ]
    },
    {
      "cell_type": "code",
      "execution_count": null,
      "metadata": {
        "id": "r1INfQRt0eJm"
      },
      "outputs": [],
      "source": [
        "# Hyper parameter\n",
        "batch_size = 100\n",
        "learning_rate = 0.1\n",
        "training_epochs = 20\n",
        "loss_function = nn.CrossEntropyLoss()\n",
        "network = TestModel()\n",
        "optimizer = torch.optim.SGD(network.parameters(), lr = learning_rate)\n",
        "data_loader = DataLoader(dataset=cifar10_train,\n",
        "                         batch_size=batch_size,\n",
        "                         shuffle=True,\n",
        "                         drop_last=True)\n",
        "\n",
        "# Training\n",
        "device = 'cpu'\n",
        "if torch.cuda.is_available():\n",
        "    device = 'cuda:0'\n",
        "\n",
        "network = network.to(device)\n",
        "for epoch in range(training_epochs):\n",
        "  avg_cost = 0\n",
        "  total_batch = len(data_loader)\n",
        "\n",
        "  for img, label in data_loader:\n",
        "\n",
        "    img = img.to(device)\n",
        "    label = label.to(device)\n",
        "\n",
        "    pred = network(img)\n",
        "\n",
        "    loss = loss_function(pred, label)\n",
        "    optimizer.zero_grad() # gradient 초기화\n",
        "    loss.backward()\n",
        "    optimizer.step()\n",
        "\n",
        "    avg_cost += loss / total_batch\n",
        "\n",
        "  print('Epoch: %d Loss = %f'%(epoch+1, avg_cost))\n",
        "\n",
        "print('Learning finished')\n",
        "\n",
        "# Test\n",
        "network = network.to('cpu')\n",
        "with torch.no_grad(): # test에서는 기울기 계산 제외\n",
        "\n",
        "  img_test = torch.tensor(np.transpose(cifar10_test.data, (0, 3, 1, 2)))/255.\n",
        "  label_test = torch.tensor(cifar10_test.targets)\n",
        "\n",
        "  prediction = network(img_test) # 전체 test data를 한번에 계산\n",
        "\n",
        "  correct_prediction = torch.argmax(prediction, 1) == label_test\n",
        "  accuracy = correct_prediction.float().mean()\n",
        "  print('Accuracy:', accuracy.item())"
      ]
    },
    {
      "cell_type": "markdown",
      "metadata": {
        "id": "KZmsmIJpC4Xy"
      },
      "source": [
        "## -----------------------------------------------------------------"
      ]
    },
    {
      "cell_type": "markdown",
      "metadata": {
        "id": "IUYfK3LVEDvm"
      },
      "source": [
        "## 기말고사 연습문제 2"
      ]
    },
    {
      "cell_type": "markdown",
      "source": [
        "### 패키지 선언"
      ],
      "metadata": {
        "id": "jy7WNcG-lKRh"
      }
    },
    {
      "cell_type": "code",
      "source": [
        "import pandas as pd\n",
        "import numpy as np\n",
        "import matplotlib.pyplot as plt\n",
        "\n",
        "from sklearn.datasets import make_classification\n",
        "from sklearn.model_selection import train_test_split"
      ],
      "metadata": {
        "id": "KAKLPJbnlIvT"
      },
      "execution_count": null,
      "outputs": []
    },
    {
      "cell_type": "markdown",
      "source": [
        "### Dataset 선언"
      ],
      "metadata": {
        "id": "UGYb9u_MlYuK"
      }
    },
    {
      "cell_type": "code",
      "source": [
        "X, y = make_classification(n_samples=500,\n",
        "                           n_features=2,\n",
        "                           n_classes=3,\n",
        "                           n_clusters_per_class=1,\n",
        "                           n_informative=2,\n",
        "                           n_redundant=0,\n",
        "                           random_state=40)\n",
        "\n",
        "plt.scatter(X[:, 0], X[:, 1], marker='o', c=y, s=100, edgecolor=\"k\", linewidth=1)\n",
        "plt.xlabel(\"x_1\")\n",
        "plt.ylabel(\"x_2\")\n",
        "plt.show()"
      ],
      "metadata": {
        "id": "jeBAueBxlaqn"
      },
      "execution_count": null,
      "outputs": []
    },
    {
      "cell_type": "markdown",
      "source": [
        "### SVM 모델 구현"
      ],
      "metadata": {
        "id": "GemgxAwOm0oB"
      }
    },
    {
      "cell_type": "code",
      "source": [
        "class SVM:\n",
        "    def __init__(self, learning_rate=0.001, n_iters=1000):\n",
        "        self.learning_rate = learning_rate\n",
        "        self.n_iters = n_iters\n",
        "        self.weights = None  # 가중치 벡터\n",
        "        self.bias = None  # 절편\n",
        "\n",
        "    def fit(self, X, y):\n",
        "        \"\"\"\n",
        "        SVM 모델 학습\n",
        "        - X: 입력 데이터 (data 개수 x feature 개수)\n",
        "        - y: 타겟 레이블 (data 개수만큼 -1 또는 1로 이루어진 배열)\n",
        "        \"\"\"\n",
        "        n_samples, n_features = X.shape # n_samples: 데이터 개수\n",
        "\n",
        "        # 레이블을 -1 또는 1로 변환\n",
        "        y_modified = np.where(y <= 0, -1, 1)\n",
        "\n",
        "        # Weight 및 bias 초기화\n",
        "        self.weights = np.zeros(n_features)  # 가중치 벡터\n",
        "        self.bias = 0  # 절편\n",
        "\n",
        "        # Gradient Decent\n",
        "\n",
        "\n",
        "    def predict(self, X):\n",
        "        \"\"\"\n",
        "        새로운 데이터에 대한 클래스 예측\n",
        "        - X: 입력 데이터\n",
        "        - 반환값: 예측된 클래스 레이블 (-1 또는 1)\n",
        "        \"\"\"\n",
        "        # 결정 함수: w^T * x + b\n",
        "        linear_output = np.dot(X, self.weights) + self.bias\n",
        "        # sign 함수로 -1 또는 1로 변환\n",
        "        return np.sign(linear_output)"
      ],
      "metadata": {
        "id": "bgvOERBfnW8z"
      },
      "execution_count": null,
      "outputs": []
    },
    {
      "cell_type": "markdown",
      "source": [
        "### Prediction"
      ],
      "metadata": {
        "id": "F1lyhOgMnibH"
      }
    },
    {
      "cell_type": "code",
      "source": [
        "# model 1\n",
        "model = SVM()\n",
        "margin_log = model.fit(X, y)\n",
        "\n",
        "print(model.weights, model.bias)\n",
        "\n",
        "# model 2\n",
        "model = SVM()\n",
        "margin_log = model.fit(X, y)\n",
        "\n",
        "print(model.weights, model.bias)\n",
        "\n",
        "# model 3\n",
        "model = SVM()\n",
        "margin_log = model.fit(X, y)\n",
        "\n",
        "print(model.weights, model.bias)"
      ],
      "metadata": {
        "id": "S9ywlMeFnoM3"
      },
      "execution_count": null,
      "outputs": []
    },
    {
      "cell_type": "markdown",
      "source": [
        "## -----------------------------------------------------------------"
      ],
      "metadata": {
        "id": "ki2S7xdtk50N"
      }
    },
    {
      "cell_type": "markdown",
      "source": [
        "## 기말고사 연습문제 3"
      ],
      "metadata": {
        "id": "BnaBknj3k8cQ"
      }
    },
    {
      "cell_type": "markdown",
      "source": [
        "### 패키지 선언"
      ],
      "metadata": {
        "id": "L02cLL9vn-Ph"
      }
    },
    {
      "cell_type": "code",
      "source": [
        "import pandas as pd\n",
        "import numpy as np\n",
        "import matplotlib.pyplot as plt\n",
        "\n",
        "from sklearn.datasets import make_classification\n",
        "from sklearn.model_selection import train_test_split"
      ],
      "metadata": {
        "id": "dVan87QOoAM5"
      },
      "execution_count": null,
      "outputs": []
    },
    {
      "cell_type": "markdown",
      "source": [
        "### Dataset 선언"
      ],
      "metadata": {
        "id": "7_1c7YASoEre"
      }
    },
    {
      "cell_type": "code",
      "source": [
        "X, y = make_classification(n_samples=500,\n",
        "                           n_features=2,\n",
        "                           n_classes=4,\n",
        "                           n_clusters_per_class=1,\n",
        "                           n_informative=2,\n",
        "                           n_redundant=0,\n",
        "                           random_state=40)\n",
        "\n",
        "X[:, 0] = X[:, 0] * 0.1 - 100\n",
        "X[:, 1] = X[:, 1] * 100 + 120\n",
        "\n",
        "plt.scatter(X[:, 0], X[:, 1], marker='o', c=y, s=100, edgecolor=\"k\", linewidth=1)\n",
        "plt.xlabel(\"x_1\")\n",
        "plt.ylabel(\"x_2\")\n",
        "plt.show()\n",
        "\n",
        "# Training/Testing Dataset 분리 (80:20)\n",
        "X_train, X_test, y_train, y_test = train_test_split(X, y, test_size=0.2, random_state=1234)\n",
        "\n",
        "print(\"Training samples: \", len(X_train))\n",
        "print(\"Testing samples: \", len(X_test))"
      ],
      "metadata": {
        "id": "AOU3RPXioImV"
      },
      "execution_count": null,
      "outputs": []
    },
    {
      "cell_type": "markdown",
      "source": [
        "### 정규화 수행"
      ],
      "metadata": {
        "id": "Iy-dqcVKoN0d"
      }
    },
    {
      "cell_type": "code",
      "source": [
        "X =\n",
        "y ="
      ],
      "metadata": {
        "id": "aCM9cGxYoQRR"
      },
      "execution_count": null,
      "outputs": []
    },
    {
      "cell_type": "markdown",
      "source": [
        "### KNN 모델 구현"
      ],
      "metadata": {
        "id": "DWrVCJ5ToTFi"
      }
    },
    {
      "cell_type": "code",
      "source": [
        "def L2_distance(x1, x2):\n",
        "  return np.sqrt(np.sum((x1 - x2) ** 2))\n",
        "\n",
        "class KNN:\n",
        "  def __init__(self, k=3):\n",
        "    # initialization\n",
        "\n",
        "  def fit(self, X, y):\n",
        "    # Storage training datas\n",
        "\n",
        "  def predict(self, X):\n",
        "    # Prediction"
      ],
      "metadata": {
        "id": "hT4EpKdtoWjB"
      },
      "execution_count": null,
      "outputs": []
    },
    {
      "cell_type": "markdown",
      "source": [
        "### Prediction"
      ],
      "metadata": {
        "id": "trnGPJ-DoadN"
      }
    },
    {
      "cell_type": "code",
      "source": [
        "model = KNN()\n",
        "model.fit(X_train, y_train)\n",
        "y_pred = model.predict(X_test)\n",
        "\n",
        "accuracy = np.sum(y_pred == y_test) / len(y_test)\n",
        "print(accuracy)"
      ],
      "metadata": {
        "id": "nNYzPRVPobsz"
      },
      "execution_count": null,
      "outputs": []
    },
    {
      "cell_type": "markdown",
      "source": [
        "## -----------------------------------------------------------------"
      ],
      "metadata": {
        "id": "nc6XoT8zk-1T"
      }
    },
    {
      "cell_type": "markdown",
      "source": [
        "## 기말고사 연습문제 4"
      ],
      "metadata": {
        "id": "HsjRgmlZk_Qu"
      }
    },
    {
      "cell_type": "markdown",
      "source": [
        "### 패키지 선언"
      ],
      "metadata": {
        "id": "YydjxLiBpvTa"
      }
    },
    {
      "cell_type": "code",
      "source": [
        "import pandas as pd\n",
        "import numpy as np\n",
        "import matplotlib.pyplot as plt\n",
        "\n",
        "from sklearn.datasets import make_classification\n",
        "from sklearn.model_selection import train_test_split"
      ],
      "metadata": {
        "id": "tKyJRtgHpwoX"
      },
      "execution_count": null,
      "outputs": []
    },
    {
      "cell_type": "markdown",
      "source": [
        "### Dataset 선언"
      ],
      "metadata": {
        "id": "ew_9r2-3pxqH"
      }
    },
    {
      "cell_type": "code",
      "source": [
        "X, y = make_classification(n_samples=500,\n",
        "                           n_features=2,\n",
        "                           n_classes=3,\n",
        "                           n_clusters_per_class=1,\n",
        "                           n_informative=2,\n",
        "                           n_redundant=0,\n",
        "                           random_state=40)\n",
        "\n",
        "plt.scatter(X[:, 0], X[:, 1], marker='o', c=y, s=100, edgecolor=\"k\", linewidth=1)\n",
        "plt.xlabel(\"x_1\")\n",
        "plt.ylabel(\"x_2\")\n",
        "plt.show()\n",
        "\n",
        "# Training/Testing Dataset 분리 (80:20)\n",
        "X_train, X_test, y_train, y_test = train_test_split(X, y, test_size=0.2, random_state=1234)\n",
        "\n",
        "print(\"Training samples: \", len(X_train))\n",
        "print(\"Testing samples: \", len(X_test))"
      ],
      "metadata": {
        "id": "xiFlB8-cpzfT"
      },
      "execution_count": null,
      "outputs": []
    },
    {
      "cell_type": "markdown",
      "source": [
        "### Training dataset 분리"
      ],
      "metadata": {
        "id": "hRAeWNeAp8GW"
      }
    },
    {
      "cell_type": "code",
      "source": [
        "X_train_temp, X_test_temp, y_train_temp, y_test_temp = train_test_split(X_train, y_train, test_size=0.2, random_state=1234)"
      ],
      "metadata": {
        "id": "JA116uCsqBTK"
      },
      "execution_count": null,
      "outputs": []
    },
    {
      "cell_type": "markdown",
      "source": [
        "### KNN 모델 구현"
      ],
      "metadata": {
        "id": "Dq6o37dGp4Eq"
      }
    },
    {
      "cell_type": "code",
      "source": [
        "def L2_distance(x1, x2):\n",
        "  return np.sqrt(np.sum((x1 - x2) ** 2))\n",
        "\n",
        "class KNN:\n",
        "  def __init__(self, k=3):\n",
        "    # initialization\n",
        "\n",
        "  def fit(self, X, y):\n",
        "    # Storage training datas\n",
        "\n",
        "  def predict(self, X, k):\n",
        "    # Prediction"
      ],
      "metadata": {
        "id": "9F9-bo_Kp5qk"
      },
      "execution_count": null,
      "outputs": []
    },
    {
      "cell_type": "markdown",
      "source": [
        "### Prediction"
      ],
      "metadata": {
        "id": "REYWq7zVqWy3"
      }
    },
    {
      "cell_type": "code",
      "source": [
        "model = KNN()\n",
        "model.fit(X_train_temp, y_train_temp)\n",
        "k_list = list(range(1, 10))\n",
        "\n",
        "for k in k_list:\n",
        "  y_pred = model.predict(X_test_temp, k)\n",
        "  accuracy = np.sum(y_pred == y_test) / len(y_test)\n",
        "  print(f'accuracy: {accuracy}  k: {k}')"
      ],
      "metadata": {
        "id": "qDdfv31OqYgz"
      },
      "execution_count": null,
      "outputs": []
    }
  ],
  "metadata": {
    "accelerator": "GPU",
    "colab": {
      "gpuType": "T4",
      "provenance": [],
      "toc_visible": true
    },
    "kernelspec": {
      "display_name": "Python 3",
      "name": "python3"
    },
    "language_info": {
      "name": "python"
    }
  },
  "nbformat": 4,
  "nbformat_minor": 0
}