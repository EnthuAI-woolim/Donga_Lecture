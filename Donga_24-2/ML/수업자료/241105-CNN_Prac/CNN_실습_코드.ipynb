{
 "cells": [
  {
   "cell_type": "markdown",
   "metadata": {
    "id": "e8CW-ldez0bV"
   },
   "source": [
    "## 패키지 선언"
   ]
  },
  {
   "cell_type": "code",
   "execution_count": null,
   "metadata": {
    "id": "8y9SBNBvz989"
   },
   "outputs": [],
   "source": [
    "import torch\n",
    "import torch.nn as nn\n",
    "import numpy as np\n",
    "import torchvision.datasets as dataset\n",
    "import torchvision.transforms as transform\n",
    "from torch.utils.data import DataLoader"
   ]
  },
  {
   "cell_type": "markdown",
   "metadata": {
    "id": "N82EIvOzR4YJ"
   },
   "source": [
    "## ------------------------- Convolution layer 실습 -------------------------"
   ]
  },
  {
   "cell_type": "markdown",
   "metadata": {
    "id": "fpXtQpwHTcmG"
   },
   "source": [
    "*   Convolution layer --> nn.Conv2d(in_channels, out_channels, kernel_size, stride, padding)\n",
    "*   layer = [3 x 3 x 1] x 1, s1, p0\n",
    "\n",
    "\n"
   ]
  },
  {
   "cell_type": "code",
   "execution_count": null,
   "metadata": {
    "id": "gp0tS471SVC_"
   },
   "outputs": [],
   "source": [
    "# 테스트 입력 텐서 생성\n",
    "test_tensor = torch.rand(1, 1, 5, 5) # Batch size, Channel, Height, Width\n",
    "print(test_tensor.size())\n",
    "print(test_tensor)"
   ]
  },
  {
   "cell_type": "code",
   "execution_count": null,
   "metadata": {
    "id": "AMPGp1oWR4HZ"
   },
   "outputs": [],
   "source": [
    "class testModel_channel1 (nn.Module):\n",
    "  def __init__(self):\n",
    "    super(testModel_channel1, self).__init__()\n",
    "\n",
    "    self.conv =\n",
    "\n",
    "  def forward(self, x):\n",
    "\n",
    "    # run code\n",
    "    y = self.conv(x)\n",
    "\n",
    "    return y"
   ]
  },
  {
   "cell_type": "code",
   "execution_count": null,
   "metadata": {
    "id": "pI9m-twETBVf"
   },
   "outputs": [],
   "source": [
    "model = testModel_channel1()\n",
    "out = model(test_tensor)\n",
    "print(out.size())\n",
    "print(out)"
   ]
  },
  {
   "cell_type": "markdown",
   "metadata": {
    "id": "08G4b_J-Tls4"
   },
   "source": [
    "*   layer = [5 x 5 x 6] x 16, s1, p0"
   ]
  },
  {
   "cell_type": "code",
   "execution_count": null,
   "metadata": {
    "id": "r_JQvI6QTatg"
   },
   "outputs": [],
   "source": [
    "test_tensor = torch.rand(1, 6, 32, 32)"
   ]
  },
  {
   "cell_type": "code",
   "execution_count": null,
   "metadata": {
    "id": "Yh6F4OQaTxg_"
   },
   "outputs": [],
   "source": [
    "class testModel_channel6 (nn.Module):\n",
    "  def __init__(self):\n",
    "    super(testModel_channel6, self).__init__()\n",
    "\n",
    "\n",
    "  def forward(self, x):\n",
    "\n",
    "\n",
    "    return y"
   ]
  },
  {
   "cell_type": "code",
   "execution_count": null,
   "metadata": {
    "id": "NcrsS3WSTyb7"
   },
   "outputs": [],
   "source": [
    "model = testModel_channel6()\n",
    "out = model(test_tensor)\n",
    "print(out.size())"
   ]
  },
  {
   "cell_type": "markdown",
   "metadata": {
    "id": "cNQxye7LVHsx"
   },
   "source": [
    "### 3 Convolution layer\n",
    "*   layer 1: [3 x 3 x 1] x 32, s1, p1\n",
    "*   layer 2: [3 x 3 x 32] x 64, s1, p1\n",
    "*   layer 3: [3 x 3 x 64] x 128, s1, p1"
   ]
  },
  {
   "cell_type": "code",
   "execution_count": null,
   "metadata": {
    "id": "99nQSOswViKx"
   },
   "outputs": [],
   "source": [
    "test_tensor = torch.rand(1, 1, 32, 32)"
   ]
  },
  {
   "cell_type": "code",
   "execution_count": null,
   "metadata": {
    "id": "SA9xv01rVlC3"
   },
   "outputs": [],
   "source": [
    "class testModel_layer3 (nn.Module):\n",
    "  def __init__(self):\n",
    "    super(testModel_layer3, self).__init__()\n",
    "\n",
    "\n",
    "  def forward(self, x):\n",
    "\n",
    "    return y"
   ]
  },
  {
   "cell_type": "code",
   "execution_count": null,
   "metadata": {
    "id": "JpIPWkOiVtSW"
   },
   "outputs": [],
   "source": [
    "model = testModel_layer3()\n",
    "out = model(test_tensor)\n",
    "print(out.size())"
   ]
  },
  {
   "cell_type": "markdown",
   "metadata": {
    "id": "GR_U88pzmA1Z"
   },
   "source": [
    "## ------------------------- LeNet 실습 -------------------------"
   ]
  },
  {
   "cell_type": "markdown",
   "metadata": {
    "id": "xIZvkTTVz_We"
   },
   "source": [
    "## Dataset 선언"
   ]
  },
  {
   "cell_type": "code",
   "execution_count": null,
   "metadata": {
    "id": "22hst1Gx0DPK"
   },
   "outputs": [],
   "source": [
    "# Training dataset 다운로드\n",
    "cifar10_train = dataset.CIFAR10(root = \"./\", # 데이터셋을 저장할 위치\n",
    "                            train = True,\n",
    "                            transform = transform.ToTensor(),\n",
    "                            download = True)\n",
    "# Testing dataset 다운로드\n",
    "cifar10_test = dataset.CIFAR10(root = \"./\",\n",
    "                            train = False,\n",
    "                            transform = transform.ToTensor(),\n",
    "                            download = True)"
   ]
  },
  {
   "cell_type": "markdown",
   "metadata": {
    "id": "ARS1c9CD0ElD"
   },
   "source": [
    "## CIFAR10 데이터셋 형상 확인"
   ]
  },
  {
   "cell_type": "code",
   "execution_count": null,
   "metadata": {
    "id": "FZdigwTg0GnB"
   },
   "outputs": [],
   "source": [
    "from matplotlib import pyplot as plt\n",
    "print(len(cifar10_train))     # training dataset 개수 확인\n",
    "\n",
    "first_data = cifar10_train[1]\n",
    "print(first_data[0].shape)  # 두번째 data의 형상 확인\n",
    "print(first_data[1])        # 두번째 data의 정답 확인\n",
    "\n",
    "\n",
    "plt.imshow(first_data[0].permute(1, 2, 0))\n",
    "plt.show()"
   ]
  },
  {
   "cell_type": "markdown",
   "metadata": {
    "id": "AyHBDzjhfHbN"
   },
   "source": [
    "## 비교용 MLP 모델 정의"
   ]
  },
  {
   "cell_type": "code",
   "execution_count": null,
   "metadata": {
    "id": "lFgHfPURfHbN"
   },
   "outputs": [],
   "source": [
    "class TestMLP (nn.Module):\n",
    "  def __init__ (self):\n",
    "    super(TestMLP, self).__init__()\n",
    "\n",
    "    self.fc1 = nn.Linear(3072, 1024)\n",
    "    self.fc2 = nn.Linear(1024, 10)\n",
    "    self.sigmoid = nn.Sigmoid()\n",
    "\n",
    "\n",
    "  def forward(self, x):\n",
    "    x = x.reshape(-1, 3072)\n",
    "    y = self.sigmoid(self.fc1(x))\n",
    "    y = self.fc2(y)\n",
    "\n",
    "    return y"
   ]
  },
  {
   "cell_type": "markdown",
   "metadata": {
    "id": "N9h-EcVWfHbN"
   },
   "source": [
    "## Training"
   ]
  },
  {
   "cell_type": "code",
   "execution_count": null,
   "metadata": {
    "id": "9PmCDZwOfHbN"
   },
   "outputs": [],
   "source": [
    "batch_size = 100\n",
    "learning_rate = 0.1\n",
    "training_epochs = 30\n",
    "loss_function = nn.CrossEntropyLoss()\n",
    "network = TestMLP()\n",
    "optimizer = torch.optim.SGD(network.parameters(), lr = learning_rate)\n",
    "data_loader = DataLoader(dataset=cifar10_train,\n",
    "                         batch_size=batch_size,\n",
    "                         shuffle=True,\n",
    "                         drop_last=True)\n",
    "\n",
    "device = 'cpu'\n",
    "if torch.cuda.is_available():\n",
    "    device = 'cuda:0'\n",
    "\n",
    "network = network.to(device)\n",
    "for epoch in range(training_epochs):\n",
    "  avg_cost = 0\n",
    "  total_batch = len(data_loader)\n",
    "\n",
    "  for img, label in data_loader:\n",
    "\n",
    "    img = img.to(device)\n",
    "    label = label.to(device)\n",
    "\n",
    "    pred = network(img)\n",
    "\n",
    "    loss = loss_function(pred, label)\n",
    "    optimizer.zero_grad() # gradient 초기화\n",
    "    loss.backward()\n",
    "    optimizer.step()\n",
    "\n",
    "    avg_cost += loss / total_batch\n",
    "\n",
    "  print('Epoch: %d Loss = %f'%(epoch+1, avg_cost))\n",
    "\n",
    "print('Learning finished')"
   ]
  },
  {
   "cell_type": "markdown",
   "metadata": {
    "id": "8b0iesf8fHbN"
   },
   "source": [
    "## 성능 확인"
   ]
  },
  {
   "cell_type": "code",
   "execution_count": null,
   "metadata": {
    "id": "JxfuR2sbfHbN"
   },
   "outputs": [],
   "source": [
    "network = network.to('cpu')\n",
    "with torch.no_grad(): # test에서는 기울기 계산 제외\n",
    "\n",
    "  img_test = torch.tensor(np.transpose(cifar10_test.data, (0, 3, 1, 2)))/255.\n",
    "  label_test = torch.tensor(cifar10_test.targets)\n",
    "\n",
    "  prediction = network(img_test) # 전체 test data를 한번에 계산\n",
    "\n",
    "  correct_prediction = torch.argmax(prediction, 1) == label_test\n",
    "  accuracy = correct_prediction.float().mean()\n",
    "  print('Accuracy:', accuracy.item())"
   ]
  },
  {
   "cell_type": "markdown",
   "metadata": {
    "id": "nOCujlwh0TJw"
   },
   "source": [
    "## LeNet 모델 정의\n",
    "\n",
    "\n",
    "*   Convolution layer --> nn.Conv2d(in_channels, out_channels, kernel_size, stride, padding)\n",
    "*   Fully connected layer --> nn.Linear(in_features, out_features)\n",
    "*   Activation function (ReLU) --> nn.ReLU()\n",
    "*   Max pooling layer --> nn.MaxPool2d(kernel_size, stirde)\n",
    "*   Avg pooling layer --> nn.AvgPool2d(kernel_size, stride)\n",
    "\n"
   ]
  },
  {
   "cell_type": "code",
   "execution_count": null,
   "metadata": {
    "id": "S3LB6Iv-0U56"
   },
   "outputs": [],
   "source": [
    "class LeNet (nn.Module):\n",
    "  def __init__ (self):\n",
    "    super(LeNet, self).__init__()\n",
    "\n",
    "\n",
    "  def forward(self, x):\n",
    "    # cnn code\n",
    "\n",
    "    # 평탄화\n",
    "    y = y.reshape(-1, 5*5*16)\n",
    "\n",
    "    # mlp code\n",
    "\n",
    "    return y"
   ]
  },
  {
   "cell_type": "markdown",
   "metadata": {
    "id": "ltAhcjO60b0x"
   },
   "source": [
    "## Hyper-parameters 지정"
   ]
  },
  {
   "cell_type": "code",
   "execution_count": null,
   "metadata": {
    "id": "r1INfQRt0eJm"
   },
   "outputs": [],
   "source": [
    "batch_size = 100\n",
    "learning_rate = 0.1\n",
    "training_epochs = 30\n",
    "loss_function = nn.CrossEntropyLoss()\n",
    "network = LeNet()\n",
    "optimizer = torch.optim.SGD(network.parameters(), lr = learning_rate)\n",
    "data_loader = DataLoader(dataset=cifar10_train,\n",
    "                         batch_size=batch_size,\n",
    "                         shuffle=True,\n",
    "                         drop_last=True)"
   ]
  },
  {
   "cell_type": "markdown",
   "metadata": {
    "id": "zfy95Byn0f1E"
   },
   "source": [
    "## Perceptron 학습을 위한 반복문 선언"
   ]
  },
  {
   "cell_type": "code",
   "execution_count": null,
   "metadata": {
    "id": "KEngtl0a0hFs"
   },
   "outputs": [],
   "source": [
    "device = 'cpu'\n",
    "if torch.cuda.is_available():\n",
    "    device = 'cuda:0'\n",
    "\n",
    "network = network.to(device)\n",
    "for epoch in range(training_epochs):\n",
    "  avg_cost = 0\n",
    "  total_batch = len(data_loader)\n",
    "\n",
    "  for img, label in data_loader:\n",
    "\n",
    "    img = img.to(device)\n",
    "    label = label.to(device)\n",
    "\n",
    "    pred = network(img)\n",
    "\n",
    "    loss = loss_function(pred, label)\n",
    "    optimizer.zero_grad() # gradient 초기화\n",
    "    loss.backward()\n",
    "    optimizer.step()\n",
    "\n",
    "    avg_cost += loss / total_batch\n",
    "\n",
    "  print('Epoch: %d Loss = %f'%(epoch+1, avg_cost))\n",
    "\n",
    "print('Learning finished')"
   ]
  },
  {
   "cell_type": "markdown",
   "metadata": {
    "id": "7UeKYHAz1NdM"
   },
   "source": [
    "## 학습이 완료된 모델을 이용해 정답률 확인"
   ]
  },
  {
   "cell_type": "code",
   "execution_count": null,
   "metadata": {
    "id": "1AoZ9Dmh1Pxj"
   },
   "outputs": [],
   "source": [
    "network = network.to('cpu')\n",
    "with torch.no_grad(): # test에서는 기울기 계산 제외\n",
    "\n",
    "  img_test = torch.tensor(np.transpose(cifar10_test.data, (0, 3, 1, 2)))/255.\n",
    "  label_test = torch.tensor(cifar10_test.targets)\n",
    "\n",
    "  prediction = network(img_test) # 전체 test data를 한번에 계산\n",
    "\n",
    "  correct_prediction = torch.argmax(prediction, 1) == label_test\n",
    "  accuracy = correct_prediction.float().mean()\n",
    "  print('Accuracy:', accuracy.item())"
   ]
  }
 ],
 "metadata": {
  "accelerator": "GPU",
  "colab": {
   "gpuType": "T4",
   "provenance": []
  },
  "kernelspec": {
   "display_name": "base",
   "language": "python",
   "name": "python3"
  },
  "language_info": {
   "codemirror_mode": {
    "name": "ipython",
    "version": 3
   },
   "file_extension": ".py",
   "mimetype": "text/x-python",
   "name": "python",
   "nbconvert_exporter": "python",
   "pygments_lexer": "ipython3",
   "version": "3.11.5"
  }
 },
 "nbformat": 4,
 "nbformat_minor": 0
}
